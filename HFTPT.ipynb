{
 "cells": [
  {
   "cell_type": "code",
   "execution_count": 46,
   "id": "d4e78891",
   "metadata": {},
   "outputs": [
    {
     "name": "stdout",
     "output_type": "stream",
     "text": [
      "Requirement already satisfied: yfinance in ./opt/anaconda3/lib/python3.9/site-packages (0.2.22)\n",
      "Requirement already satisfied: multitasking>=0.0.7 in ./opt/anaconda3/lib/python3.9/site-packages (from yfinance) (0.0.11)\n",
      "Requirement already satisfied: frozendict>=2.3.4 in ./opt/anaconda3/lib/python3.9/site-packages (from yfinance) (2.3.8)\n",
      "Requirement already satisfied: lxml>=4.9.1 in ./opt/anaconda3/lib/python3.9/site-packages (from yfinance) (4.9.2)\n",
      "Requirement already satisfied: html5lib>=1.1 in ./opt/anaconda3/lib/python3.9/site-packages (from yfinance) (1.1)\n",
      "Requirement already satisfied: requests>=2.26 in ./opt/anaconda3/lib/python3.9/site-packages (from yfinance) (2.27.1)\n",
      "Requirement already satisfied: numpy>=1.16.5 in ./opt/anaconda3/lib/python3.9/site-packages (from yfinance) (1.21.5)\n",
      "Requirement already satisfied: appdirs>=1.4.4 in ./opt/anaconda3/lib/python3.9/site-packages (from yfinance) (1.4.4)\n",
      "Requirement already satisfied: pandas>=1.3.0 in ./opt/anaconda3/lib/python3.9/site-packages (from yfinance) (1.4.2)\n",
      "Requirement already satisfied: pytz>=2022.5 in ./opt/anaconda3/lib/python3.9/site-packages (from yfinance) (2023.3)\n",
      "Requirement already satisfied: beautifulsoup4>=4.11.1 in ./opt/anaconda3/lib/python3.9/site-packages (from yfinance) (4.11.1)\n",
      "Requirement already satisfied: soupsieve>1.2 in ./opt/anaconda3/lib/python3.9/site-packages (from beautifulsoup4>=4.11.1->yfinance) (2.3.1)\n",
      "Requirement already satisfied: six>=1.9 in ./opt/anaconda3/lib/python3.9/site-packages (from html5lib>=1.1->yfinance) (1.16.0)\n",
      "Requirement already satisfied: webencodings in ./opt/anaconda3/lib/python3.9/site-packages (from html5lib>=1.1->yfinance) (0.5.1)\n",
      "Requirement already satisfied: python-dateutil>=2.8.1 in ./opt/anaconda3/lib/python3.9/site-packages (from pandas>=1.3.0->yfinance) (2.8.2)\n",
      "Requirement already satisfied: charset-normalizer~=2.0.0 in ./opt/anaconda3/lib/python3.9/site-packages (from requests>=2.26->yfinance) (2.0.4)\n",
      "Requirement already satisfied: idna<4,>=2.5 in ./opt/anaconda3/lib/python3.9/site-packages (from requests>=2.26->yfinance) (3.3)\n",
      "Requirement already satisfied: certifi>=2017.4.17 in ./opt/anaconda3/lib/python3.9/site-packages (from requests>=2.26->yfinance) (2021.10.8)\n",
      "Requirement already satisfied: urllib3<1.27,>=1.21.1 in ./opt/anaconda3/lib/python3.9/site-packages (from requests>=2.26->yfinance) (1.26.9)\n",
      "Note: you may need to restart the kernel to use updated packages.\n"
     ]
    }
   ],
   "source": [
    "pip install yfinance"
   ]
  },
  {
   "cell_type": "code",
   "execution_count": 47,
   "id": "4581492f",
   "metadata": {},
   "outputs": [],
   "source": [
    "import numpy as np\n",
    "import pandas as pd\n",
    "import yfinance as yf\n",
    "import matplotlib.pyplot as plt\n",
    "from scipy.stats import linregress"
   ]
  },
  {
   "cell_type": "code",
   "execution_count": null,
   "id": "4f3ea8ea",
   "metadata": {},
   "outputs": [],
   "source": []
  },
  {
   "cell_type": "code",
   "execution_count": null,
   "id": "42cf9d3d",
   "metadata": {},
   "outputs": [],
   "source": []
  },
  {
   "cell_type": "code",
   "execution_count": 48,
   "id": "f48827b9",
   "metadata": {},
   "outputs": [
    {
     "name": "stdout",
     "output_type": "stream",
     "text": [
      "[*********************100%***********************]  1 of 1 completed\n"
     ]
    }
   ],
   "source": [
    "BTCy = yf.download('BTC-USD', start='2023-06-03', end='2023-06-04',  interval = '1m')"
   ]
  },
  {
   "cell_type": "code",
   "execution_count": 49,
   "id": "f2cdd44e",
   "metadata": {},
   "outputs": [
    {
     "data": {
      "text/html": [
       "<div>\n",
       "<style scoped>\n",
       "    .dataframe tbody tr th:only-of-type {\n",
       "        vertical-align: middle;\n",
       "    }\n",
       "\n",
       "    .dataframe tbody tr th {\n",
       "        vertical-align: top;\n",
       "    }\n",
       "\n",
       "    .dataframe thead th {\n",
       "        text-align: right;\n",
       "    }\n",
       "</style>\n",
       "<table border=\"1\" class=\"dataframe\">\n",
       "  <thead>\n",
       "    <tr style=\"text-align: right;\">\n",
       "      <th></th>\n",
       "      <th>Open</th>\n",
       "      <th>High</th>\n",
       "      <th>Low</th>\n",
       "      <th>Close</th>\n",
       "      <th>Adj Close</th>\n",
       "      <th>Volume</th>\n",
       "    </tr>\n",
       "    <tr>\n",
       "      <th>Datetime</th>\n",
       "      <th></th>\n",
       "      <th></th>\n",
       "      <th></th>\n",
       "      <th></th>\n",
       "      <th></th>\n",
       "      <th></th>\n",
       "    </tr>\n",
       "  </thead>\n",
       "  <tbody>\n",
       "    <tr>\n",
       "      <th>2023-06-03 00:00:00+00:00</th>\n",
       "      <td>27252.324219</td>\n",
       "      <td>27252.324219</td>\n",
       "      <td>27252.324219</td>\n",
       "      <td>27252.324219</td>\n",
       "      <td>27252.324219</td>\n",
       "      <td>0</td>\n",
       "    </tr>\n",
       "    <tr>\n",
       "      <th>2023-06-03 00:01:00+00:00</th>\n",
       "      <td>27251.412109</td>\n",
       "      <td>27251.412109</td>\n",
       "      <td>27251.412109</td>\n",
       "      <td>27251.412109</td>\n",
       "      <td>27251.412109</td>\n",
       "      <td>0</td>\n",
       "    </tr>\n",
       "    <tr>\n",
       "      <th>2023-06-03 00:02:00+00:00</th>\n",
       "      <td>27249.333984</td>\n",
       "      <td>27249.333984</td>\n",
       "      <td>27249.333984</td>\n",
       "      <td>27249.333984</td>\n",
       "      <td>27249.333984</td>\n",
       "      <td>0</td>\n",
       "    </tr>\n",
       "    <tr>\n",
       "      <th>2023-06-03 00:03:00+00:00</th>\n",
       "      <td>27249.101562</td>\n",
       "      <td>27249.101562</td>\n",
       "      <td>27249.101562</td>\n",
       "      <td>27249.101562</td>\n",
       "      <td>27249.101562</td>\n",
       "      <td>0</td>\n",
       "    </tr>\n",
       "    <tr>\n",
       "      <th>2023-06-03 00:04:00+00:00</th>\n",
       "      <td>27238.392578</td>\n",
       "      <td>27238.392578</td>\n",
       "      <td>27238.392578</td>\n",
       "      <td>27238.392578</td>\n",
       "      <td>27238.392578</td>\n",
       "      <td>0</td>\n",
       "    </tr>\n",
       "    <tr>\n",
       "      <th>...</th>\n",
       "      <td>...</td>\n",
       "      <td>...</td>\n",
       "      <td>...</td>\n",
       "      <td>...</td>\n",
       "      <td>...</td>\n",
       "      <td>...</td>\n",
       "    </tr>\n",
       "    <tr>\n",
       "      <th>2023-06-03 23:54:00+00:00</th>\n",
       "      <td>27066.750000</td>\n",
       "      <td>27066.750000</td>\n",
       "      <td>27066.750000</td>\n",
       "      <td>27066.750000</td>\n",
       "      <td>27066.750000</td>\n",
       "      <td>204288</td>\n",
       "    </tr>\n",
       "    <tr>\n",
       "      <th>2023-06-03 23:55:00+00:00</th>\n",
       "      <td>27062.585938</td>\n",
       "      <td>27062.585938</td>\n",
       "      <td>27062.585938</td>\n",
       "      <td>27062.585938</td>\n",
       "      <td>27062.585938</td>\n",
       "      <td>7171584</td>\n",
       "    </tr>\n",
       "    <tr>\n",
       "      <th>2023-06-03 23:56:00+00:00</th>\n",
       "      <td>27067.320312</td>\n",
       "      <td>27067.320312</td>\n",
       "      <td>27067.320312</td>\n",
       "      <td>27067.320312</td>\n",
       "      <td>27067.320312</td>\n",
       "      <td>0</td>\n",
       "    </tr>\n",
       "    <tr>\n",
       "      <th>2023-06-03 23:57:00+00:00</th>\n",
       "      <td>27068.660156</td>\n",
       "      <td>27068.660156</td>\n",
       "      <td>27068.660156</td>\n",
       "      <td>27068.660156</td>\n",
       "      <td>27068.660156</td>\n",
       "      <td>546816</td>\n",
       "    </tr>\n",
       "    <tr>\n",
       "      <th>2023-06-03 23:58:00+00:00</th>\n",
       "      <td>27069.679688</td>\n",
       "      <td>27069.679688</td>\n",
       "      <td>27069.679688</td>\n",
       "      <td>27069.679688</td>\n",
       "      <td>27069.679688</td>\n",
       "      <td>6009344</td>\n",
       "    </tr>\n",
       "  </tbody>\n",
       "</table>\n",
       "<p>1429 rows × 6 columns</p>\n",
       "</div>"
      ],
      "text/plain": [
       "                                   Open          High           Low  \\\n",
       "Datetime                                                              \n",
       "2023-06-03 00:00:00+00:00  27252.324219  27252.324219  27252.324219   \n",
       "2023-06-03 00:01:00+00:00  27251.412109  27251.412109  27251.412109   \n",
       "2023-06-03 00:02:00+00:00  27249.333984  27249.333984  27249.333984   \n",
       "2023-06-03 00:03:00+00:00  27249.101562  27249.101562  27249.101562   \n",
       "2023-06-03 00:04:00+00:00  27238.392578  27238.392578  27238.392578   \n",
       "...                                 ...           ...           ...   \n",
       "2023-06-03 23:54:00+00:00  27066.750000  27066.750000  27066.750000   \n",
       "2023-06-03 23:55:00+00:00  27062.585938  27062.585938  27062.585938   \n",
       "2023-06-03 23:56:00+00:00  27067.320312  27067.320312  27067.320312   \n",
       "2023-06-03 23:57:00+00:00  27068.660156  27068.660156  27068.660156   \n",
       "2023-06-03 23:58:00+00:00  27069.679688  27069.679688  27069.679688   \n",
       "\n",
       "                                  Close     Adj Close   Volume  \n",
       "Datetime                                                        \n",
       "2023-06-03 00:00:00+00:00  27252.324219  27252.324219        0  \n",
       "2023-06-03 00:01:00+00:00  27251.412109  27251.412109        0  \n",
       "2023-06-03 00:02:00+00:00  27249.333984  27249.333984        0  \n",
       "2023-06-03 00:03:00+00:00  27249.101562  27249.101562        0  \n",
       "2023-06-03 00:04:00+00:00  27238.392578  27238.392578        0  \n",
       "...                                 ...           ...      ...  \n",
       "2023-06-03 23:54:00+00:00  27066.750000  27066.750000   204288  \n",
       "2023-06-03 23:55:00+00:00  27062.585938  27062.585938  7171584  \n",
       "2023-06-03 23:56:00+00:00  27067.320312  27067.320312        0  \n",
       "2023-06-03 23:57:00+00:00  27068.660156  27068.660156   546816  \n",
       "2023-06-03 23:58:00+00:00  27069.679688  27069.679688  6009344  \n",
       "\n",
       "[1429 rows x 6 columns]"
      ]
     },
     "execution_count": 49,
     "metadata": {},
     "output_type": "execute_result"
    }
   ],
   "source": [
    "BTCy"
   ]
  },
  {
   "cell_type": "code",
   "execution_count": 50,
   "id": "8f592275",
   "metadata": {},
   "outputs": [
    {
     "data": {
      "text/html": [
       "<div>\n",
       "<style scoped>\n",
       "    .dataframe tbody tr th:only-of-type {\n",
       "        vertical-align: middle;\n",
       "    }\n",
       "\n",
       "    .dataframe tbody tr th {\n",
       "        vertical-align: top;\n",
       "    }\n",
       "\n",
       "    .dataframe thead th {\n",
       "        text-align: right;\n",
       "    }\n",
       "</style>\n",
       "<table border=\"1\" class=\"dataframe\">\n",
       "  <thead>\n",
       "    <tr style=\"text-align: right;\">\n",
       "      <th></th>\n",
       "      <th>Open</th>\n",
       "      <th>High</th>\n",
       "      <th>Low</th>\n",
       "      <th>Close</th>\n",
       "      <th>Adj Close</th>\n",
       "      <th>Volume</th>\n",
       "    </tr>\n",
       "  </thead>\n",
       "  <tbody>\n",
       "    <tr>\n",
       "      <th>count</th>\n",
       "      <td>1429.000000</td>\n",
       "      <td>1429.000000</td>\n",
       "      <td>1429.000000</td>\n",
       "      <td>1429.000000</td>\n",
       "      <td>1429.000000</td>\n",
       "      <td>1.429000e+03</td>\n",
       "    </tr>\n",
       "    <tr>\n",
       "      <th>mean</th>\n",
       "      <td>27159.193573</td>\n",
       "      <td>27159.193573</td>\n",
       "      <td>27159.193573</td>\n",
       "      <td>27159.193573</td>\n",
       "      <td>27159.193573</td>\n",
       "      <td>8.665512e+05</td>\n",
       "    </tr>\n",
       "    <tr>\n",
       "      <th>std</th>\n",
       "      <td>55.613783</td>\n",
       "      <td>55.613783</td>\n",
       "      <td>55.613783</td>\n",
       "      <td>55.613783</td>\n",
       "      <td>55.613783</td>\n",
       "      <td>3.165353e+06</td>\n",
       "    </tr>\n",
       "    <tr>\n",
       "      <th>min</th>\n",
       "      <td>26958.003906</td>\n",
       "      <td>26958.003906</td>\n",
       "      <td>26958.003906</td>\n",
       "      <td>26958.003906</td>\n",
       "      <td>26958.003906</td>\n",
       "      <td>0.000000e+00</td>\n",
       "    </tr>\n",
       "    <tr>\n",
       "      <th>25%</th>\n",
       "      <td>27146.691406</td>\n",
       "      <td>27146.691406</td>\n",
       "      <td>27146.691406</td>\n",
       "      <td>27146.691406</td>\n",
       "      <td>27146.691406</td>\n",
       "      <td>0.000000e+00</td>\n",
       "    </tr>\n",
       "    <tr>\n",
       "      <th>50%</th>\n",
       "      <td>27163.384766</td>\n",
       "      <td>27163.384766</td>\n",
       "      <td>27163.384766</td>\n",
       "      <td>27163.384766</td>\n",
       "      <td>27163.384766</td>\n",
       "      <td>0.000000e+00</td>\n",
       "    </tr>\n",
       "    <tr>\n",
       "      <th>75%</th>\n",
       "      <td>27186.308594</td>\n",
       "      <td>27186.308594</td>\n",
       "      <td>27186.308594</td>\n",
       "      <td>27186.308594</td>\n",
       "      <td>27186.308594</td>\n",
       "      <td>7.731200e+04</td>\n",
       "    </tr>\n",
       "    <tr>\n",
       "      <th>max</th>\n",
       "      <td>27317.052734</td>\n",
       "      <td>27317.052734</td>\n",
       "      <td>27317.052734</td>\n",
       "      <td>27317.052734</td>\n",
       "      <td>27317.052734</td>\n",
       "      <td>4.390042e+07</td>\n",
       "    </tr>\n",
       "  </tbody>\n",
       "</table>\n",
       "</div>"
      ],
      "text/plain": [
       "               Open          High           Low         Close     Adj Close  \\\n",
       "count   1429.000000   1429.000000   1429.000000   1429.000000   1429.000000   \n",
       "mean   27159.193573  27159.193573  27159.193573  27159.193573  27159.193573   \n",
       "std       55.613783     55.613783     55.613783     55.613783     55.613783   \n",
       "min    26958.003906  26958.003906  26958.003906  26958.003906  26958.003906   \n",
       "25%    27146.691406  27146.691406  27146.691406  27146.691406  27146.691406   \n",
       "50%    27163.384766  27163.384766  27163.384766  27163.384766  27163.384766   \n",
       "75%    27186.308594  27186.308594  27186.308594  27186.308594  27186.308594   \n",
       "max    27317.052734  27317.052734  27317.052734  27317.052734  27317.052734   \n",
       "\n",
       "             Volume  \n",
       "count  1.429000e+03  \n",
       "mean   8.665512e+05  \n",
       "std    3.165353e+06  \n",
       "min    0.000000e+00  \n",
       "25%    0.000000e+00  \n",
       "50%    0.000000e+00  \n",
       "75%    7.731200e+04  \n",
       "max    4.390042e+07  "
      ]
     },
     "execution_count": 50,
     "metadata": {},
     "output_type": "execute_result"
    }
   ],
   "source": [
    "BTCy.describe()"
   ]
  },
  {
   "cell_type": "code",
   "execution_count": 51,
   "id": "e07e53b8",
   "metadata": {},
   "outputs": [
    {
     "name": "stdout",
     "output_type": "stream",
     "text": [
      "[*********************100%***********************]  1 of 1 completed\n"
     ]
    }
   ],
   "source": [
    "ETHy = yf.download('ETH-USD', start='2023-06-03', end='2023-06-04',  interval = '1m')"
   ]
  },
  {
   "cell_type": "code",
   "execution_count": 52,
   "id": "c08cecf1",
   "metadata": {},
   "outputs": [
    {
     "data": {
      "text/html": [
       "<div>\n",
       "<style scoped>\n",
       "    .dataframe tbody tr th:only-of-type {\n",
       "        vertical-align: middle;\n",
       "    }\n",
       "\n",
       "    .dataframe tbody tr th {\n",
       "        vertical-align: top;\n",
       "    }\n",
       "\n",
       "    .dataframe thead th {\n",
       "        text-align: right;\n",
       "    }\n",
       "</style>\n",
       "<table border=\"1\" class=\"dataframe\">\n",
       "  <thead>\n",
       "    <tr style=\"text-align: right;\">\n",
       "      <th></th>\n",
       "      <th>Open</th>\n",
       "      <th>High</th>\n",
       "      <th>Low</th>\n",
       "      <th>Close</th>\n",
       "      <th>Adj Close</th>\n",
       "      <th>Volume</th>\n",
       "    </tr>\n",
       "    <tr>\n",
       "      <th>Datetime</th>\n",
       "      <th></th>\n",
       "      <th></th>\n",
       "      <th></th>\n",
       "      <th></th>\n",
       "      <th></th>\n",
       "      <th></th>\n",
       "    </tr>\n",
       "  </thead>\n",
       "  <tbody>\n",
       "    <tr>\n",
       "      <th>2023-06-03 00:00:00+00:00</th>\n",
       "      <td>1907.420776</td>\n",
       "      <td>1907.420776</td>\n",
       "      <td>1907.420776</td>\n",
       "      <td>1907.420776</td>\n",
       "      <td>1907.420776</td>\n",
       "      <td>0</td>\n",
       "    </tr>\n",
       "    <tr>\n",
       "      <th>2023-06-03 00:01:00+00:00</th>\n",
       "      <td>1907.648804</td>\n",
       "      <td>1907.648804</td>\n",
       "      <td>1907.648804</td>\n",
       "      <td>1907.648804</td>\n",
       "      <td>1907.648804</td>\n",
       "      <td>0</td>\n",
       "    </tr>\n",
       "    <tr>\n",
       "      <th>2023-06-03 00:02:00+00:00</th>\n",
       "      <td>1907.594360</td>\n",
       "      <td>1907.594360</td>\n",
       "      <td>1907.594360</td>\n",
       "      <td>1907.594360</td>\n",
       "      <td>1907.594360</td>\n",
       "      <td>0</td>\n",
       "    </tr>\n",
       "    <tr>\n",
       "      <th>2023-06-03 00:03:00+00:00</th>\n",
       "      <td>1907.721924</td>\n",
       "      <td>1907.721924</td>\n",
       "      <td>1907.721924</td>\n",
       "      <td>1907.721924</td>\n",
       "      <td>1907.721924</td>\n",
       "      <td>0</td>\n",
       "    </tr>\n",
       "    <tr>\n",
       "      <th>2023-06-03 00:04:00+00:00</th>\n",
       "      <td>1907.098145</td>\n",
       "      <td>1907.098145</td>\n",
       "      <td>1907.098145</td>\n",
       "      <td>1907.098145</td>\n",
       "      <td>1907.098145</td>\n",
       "      <td>0</td>\n",
       "    </tr>\n",
       "    <tr>\n",
       "      <th>...</th>\n",
       "      <td>...</td>\n",
       "      <td>...</td>\n",
       "      <td>...</td>\n",
       "      <td>...</td>\n",
       "      <td>...</td>\n",
       "      <td>...</td>\n",
       "    </tr>\n",
       "    <tr>\n",
       "      <th>2023-06-03 23:54:00+00:00</th>\n",
       "      <td>1891.692383</td>\n",
       "      <td>1891.692383</td>\n",
       "      <td>1891.692383</td>\n",
       "      <td>1891.692383</td>\n",
       "      <td>1891.692383</td>\n",
       "      <td>0</td>\n",
       "    </tr>\n",
       "    <tr>\n",
       "      <th>2023-06-03 23:55:00+00:00</th>\n",
       "      <td>1891.638062</td>\n",
       "      <td>1891.638062</td>\n",
       "      <td>1891.638062</td>\n",
       "      <td>1891.638062</td>\n",
       "      <td>1891.638062</td>\n",
       "      <td>1059584</td>\n",
       "    </tr>\n",
       "    <tr>\n",
       "      <th>2023-06-03 23:56:00+00:00</th>\n",
       "      <td>1891.857666</td>\n",
       "      <td>1891.857666</td>\n",
       "      <td>1891.857666</td>\n",
       "      <td>1891.857666</td>\n",
       "      <td>1891.857666</td>\n",
       "      <td>0</td>\n",
       "    </tr>\n",
       "    <tr>\n",
       "      <th>2023-06-03 23:57:00+00:00</th>\n",
       "      <td>1891.980469</td>\n",
       "      <td>1891.980469</td>\n",
       "      <td>1891.980469</td>\n",
       "      <td>1891.980469</td>\n",
       "      <td>1891.980469</td>\n",
       "      <td>0</td>\n",
       "    </tr>\n",
       "    <tr>\n",
       "      <th>2023-06-03 23:58:00+00:00</th>\n",
       "      <td>1891.932007</td>\n",
       "      <td>1891.932007</td>\n",
       "      <td>1891.932007</td>\n",
       "      <td>1891.932007</td>\n",
       "      <td>1891.932007</td>\n",
       "      <td>1163264</td>\n",
       "    </tr>\n",
       "  </tbody>\n",
       "</table>\n",
       "<p>1429 rows × 6 columns</p>\n",
       "</div>"
      ],
      "text/plain": [
       "                                  Open         High          Low        Close  \\\n",
       "Datetime                                                                        \n",
       "2023-06-03 00:00:00+00:00  1907.420776  1907.420776  1907.420776  1907.420776   \n",
       "2023-06-03 00:01:00+00:00  1907.648804  1907.648804  1907.648804  1907.648804   \n",
       "2023-06-03 00:02:00+00:00  1907.594360  1907.594360  1907.594360  1907.594360   \n",
       "2023-06-03 00:03:00+00:00  1907.721924  1907.721924  1907.721924  1907.721924   \n",
       "2023-06-03 00:04:00+00:00  1907.098145  1907.098145  1907.098145  1907.098145   \n",
       "...                                ...          ...          ...          ...   \n",
       "2023-06-03 23:54:00+00:00  1891.692383  1891.692383  1891.692383  1891.692383   \n",
       "2023-06-03 23:55:00+00:00  1891.638062  1891.638062  1891.638062  1891.638062   \n",
       "2023-06-03 23:56:00+00:00  1891.857666  1891.857666  1891.857666  1891.857666   \n",
       "2023-06-03 23:57:00+00:00  1891.980469  1891.980469  1891.980469  1891.980469   \n",
       "2023-06-03 23:58:00+00:00  1891.932007  1891.932007  1891.932007  1891.932007   \n",
       "\n",
       "                             Adj Close   Volume  \n",
       "Datetime                                         \n",
       "2023-06-03 00:00:00+00:00  1907.420776        0  \n",
       "2023-06-03 00:01:00+00:00  1907.648804        0  \n",
       "2023-06-03 00:02:00+00:00  1907.594360        0  \n",
       "2023-06-03 00:03:00+00:00  1907.721924        0  \n",
       "2023-06-03 00:04:00+00:00  1907.098145        0  \n",
       "...                                ...      ...  \n",
       "2023-06-03 23:54:00+00:00  1891.692383        0  \n",
       "2023-06-03 23:55:00+00:00  1891.638062  1059584  \n",
       "2023-06-03 23:56:00+00:00  1891.857666        0  \n",
       "2023-06-03 23:57:00+00:00  1891.980469        0  \n",
       "2023-06-03 23:58:00+00:00  1891.932007  1163264  \n",
       "\n",
       "[1429 rows x 6 columns]"
      ]
     },
     "execution_count": 52,
     "metadata": {},
     "output_type": "execute_result"
    }
   ],
   "source": [
    "ETHy"
   ]
  },
  {
   "cell_type": "code",
   "execution_count": 53,
   "id": "1fa05931",
   "metadata": {},
   "outputs": [
    {
     "data": {
      "text/html": [
       "<div>\n",
       "<style scoped>\n",
       "    .dataframe tbody tr th:only-of-type {\n",
       "        vertical-align: middle;\n",
       "    }\n",
       "\n",
       "    .dataframe tbody tr th {\n",
       "        vertical-align: top;\n",
       "    }\n",
       "\n",
       "    .dataframe thead th {\n",
       "        text-align: right;\n",
       "    }\n",
       "</style>\n",
       "<table border=\"1\" class=\"dataframe\">\n",
       "  <thead>\n",
       "    <tr style=\"text-align: right;\">\n",
       "      <th></th>\n",
       "      <th>Open</th>\n",
       "      <th>High</th>\n",
       "      <th>Low</th>\n",
       "      <th>Close</th>\n",
       "      <th>Adj Close</th>\n",
       "      <th>Volume</th>\n",
       "    </tr>\n",
       "  </thead>\n",
       "  <tbody>\n",
       "    <tr>\n",
       "      <th>count</th>\n",
       "      <td>1429.000000</td>\n",
       "      <td>1429.000000</td>\n",
       "      <td>1429.000000</td>\n",
       "      <td>1429.000000</td>\n",
       "      <td>1429.000000</td>\n",
       "      <td>1.429000e+03</td>\n",
       "    </tr>\n",
       "    <tr>\n",
       "      <th>mean</th>\n",
       "      <td>1899.573667</td>\n",
       "      <td>1899.573667</td>\n",
       "      <td>1899.573667</td>\n",
       "      <td>1899.573667</td>\n",
       "      <td>1899.573667</td>\n",
       "      <td>4.939335e+05</td>\n",
       "    </tr>\n",
       "    <tr>\n",
       "      <th>std</th>\n",
       "      <td>5.887736</td>\n",
       "      <td>5.887736</td>\n",
       "      <td>5.887736</td>\n",
       "      <td>5.887736</td>\n",
       "      <td>5.887736</td>\n",
       "      <td>1.854408e+06</td>\n",
       "    </tr>\n",
       "    <tr>\n",
       "      <th>min</th>\n",
       "      <td>1885.485474</td>\n",
       "      <td>1885.485474</td>\n",
       "      <td>1885.485474</td>\n",
       "      <td>1885.485474</td>\n",
       "      <td>1885.485474</td>\n",
       "      <td>0.000000e+00</td>\n",
       "    </tr>\n",
       "    <tr>\n",
       "      <th>25%</th>\n",
       "      <td>1893.717773</td>\n",
       "      <td>1893.717773</td>\n",
       "      <td>1893.717773</td>\n",
       "      <td>1893.717773</td>\n",
       "      <td>1893.717773</td>\n",
       "      <td>0.000000e+00</td>\n",
       "    </tr>\n",
       "    <tr>\n",
       "      <th>50%</th>\n",
       "      <td>1902.049683</td>\n",
       "      <td>1902.049683</td>\n",
       "      <td>1902.049683</td>\n",
       "      <td>1902.049683</td>\n",
       "      <td>1902.049683</td>\n",
       "      <td>0.000000e+00</td>\n",
       "    </tr>\n",
       "    <tr>\n",
       "      <th>75%</th>\n",
       "      <td>1903.853882</td>\n",
       "      <td>1903.853882</td>\n",
       "      <td>1903.853882</td>\n",
       "      <td>1903.853882</td>\n",
       "      <td>1903.853882</td>\n",
       "      <td>1.354240e+05</td>\n",
       "    </tr>\n",
       "    <tr>\n",
       "      <th>max</th>\n",
       "      <td>1908.822266</td>\n",
       "      <td>1908.822266</td>\n",
       "      <td>1908.822266</td>\n",
       "      <td>1908.822266</td>\n",
       "      <td>1908.822266</td>\n",
       "      <td>2.932019e+07</td>\n",
       "    </tr>\n",
       "  </tbody>\n",
       "</table>\n",
       "</div>"
      ],
      "text/plain": [
       "              Open         High          Low        Close    Adj Close  \\\n",
       "count  1429.000000  1429.000000  1429.000000  1429.000000  1429.000000   \n",
       "mean   1899.573667  1899.573667  1899.573667  1899.573667  1899.573667   \n",
       "std       5.887736     5.887736     5.887736     5.887736     5.887736   \n",
       "min    1885.485474  1885.485474  1885.485474  1885.485474  1885.485474   \n",
       "25%    1893.717773  1893.717773  1893.717773  1893.717773  1893.717773   \n",
       "50%    1902.049683  1902.049683  1902.049683  1902.049683  1902.049683   \n",
       "75%    1903.853882  1903.853882  1903.853882  1903.853882  1903.853882   \n",
       "max    1908.822266  1908.822266  1908.822266  1908.822266  1908.822266   \n",
       "\n",
       "             Volume  \n",
       "count  1.429000e+03  \n",
       "mean   4.939335e+05  \n",
       "std    1.854408e+06  \n",
       "min    0.000000e+00  \n",
       "25%    0.000000e+00  \n",
       "50%    0.000000e+00  \n",
       "75%    1.354240e+05  \n",
       "max    2.932019e+07  "
      ]
     },
     "execution_count": 53,
     "metadata": {},
     "output_type": "execute_result"
    }
   ],
   "source": [
    "ETHy.describe()"
   ]
  },
  {
   "cell_type": "code",
   "execution_count": 54,
   "id": "d220f531",
   "metadata": {},
   "outputs": [],
   "source": [
    "result = linregress(np.log(BTCy['Adj Close']), np.log(ETHy['Adj Close']))\n",
    "beta = result.slope"
   ]
  },
  {
   "cell_type": "code",
   "execution_count": 55,
   "id": "3a1d0c17",
   "metadata": {},
   "outputs": [
    {
     "name": "stdout",
     "output_type": "stream",
     "text": [
      "[*********************100%***********************]  1 of 1 completed\n"
     ]
    }
   ],
   "source": [
    "BTC = yf.download('BTC-USD', start='2023-06-04', end='2023-06-05',  interval = '1m')"
   ]
  },
  {
   "cell_type": "code",
   "execution_count": 56,
   "id": "383a61ea",
   "metadata": {},
   "outputs": [
    {
     "data": {
      "text/html": [
       "<div>\n",
       "<style scoped>\n",
       "    .dataframe tbody tr th:only-of-type {\n",
       "        vertical-align: middle;\n",
       "    }\n",
       "\n",
       "    .dataframe tbody tr th {\n",
       "        vertical-align: top;\n",
       "    }\n",
       "\n",
       "    .dataframe thead th {\n",
       "        text-align: right;\n",
       "    }\n",
       "</style>\n",
       "<table border=\"1\" class=\"dataframe\">\n",
       "  <thead>\n",
       "    <tr style=\"text-align: right;\">\n",
       "      <th></th>\n",
       "      <th>Open</th>\n",
       "      <th>High</th>\n",
       "      <th>Low</th>\n",
       "      <th>Close</th>\n",
       "      <th>Adj Close</th>\n",
       "      <th>Volume</th>\n",
       "    </tr>\n",
       "    <tr>\n",
       "      <th>Datetime</th>\n",
       "      <th></th>\n",
       "      <th></th>\n",
       "      <th></th>\n",
       "      <th></th>\n",
       "      <th></th>\n",
       "      <th></th>\n",
       "    </tr>\n",
       "  </thead>\n",
       "  <tbody>\n",
       "    <tr>\n",
       "      <th>2023-06-04 00:00:00+00:00</th>\n",
       "      <td>27075.123047</td>\n",
       "      <td>27075.123047</td>\n",
       "      <td>27075.123047</td>\n",
       "      <td>27075.123047</td>\n",
       "      <td>27075.123047</td>\n",
       "      <td>0</td>\n",
       "    </tr>\n",
       "    <tr>\n",
       "      <th>2023-06-04 00:01:00+00:00</th>\n",
       "      <td>27075.318359</td>\n",
       "      <td>27075.318359</td>\n",
       "      <td>27075.318359</td>\n",
       "      <td>27075.318359</td>\n",
       "      <td>27075.318359</td>\n",
       "      <td>0</td>\n",
       "    </tr>\n",
       "    <tr>\n",
       "      <th>2023-06-04 00:02:00+00:00</th>\n",
       "      <td>27067.025391</td>\n",
       "      <td>27067.025391</td>\n",
       "      <td>27067.025391</td>\n",
       "      <td>27067.025391</td>\n",
       "      <td>27067.025391</td>\n",
       "      <td>0</td>\n",
       "    </tr>\n",
       "    <tr>\n",
       "      <th>2023-06-04 00:03:00+00:00</th>\n",
       "      <td>27067.289062</td>\n",
       "      <td>27067.289062</td>\n",
       "      <td>27067.289062</td>\n",
       "      <td>27067.289062</td>\n",
       "      <td>27067.289062</td>\n",
       "      <td>1490944</td>\n",
       "    </tr>\n",
       "    <tr>\n",
       "      <th>2023-06-04 00:04:00+00:00</th>\n",
       "      <td>27065.878906</td>\n",
       "      <td>27065.878906</td>\n",
       "      <td>27065.878906</td>\n",
       "      <td>27065.878906</td>\n",
       "      <td>27065.878906</td>\n",
       "      <td>0</td>\n",
       "    </tr>\n",
       "    <tr>\n",
       "      <th>...</th>\n",
       "      <td>...</td>\n",
       "      <td>...</td>\n",
       "      <td>...</td>\n",
       "      <td>...</td>\n",
       "      <td>...</td>\n",
       "      <td>...</td>\n",
       "    </tr>\n",
       "    <tr>\n",
       "      <th>2023-06-04 23:54:00+00:00</th>\n",
       "      <td>27108.228516</td>\n",
       "      <td>27108.228516</td>\n",
       "      <td>27108.228516</td>\n",
       "      <td>27108.228516</td>\n",
       "      <td>27108.228516</td>\n",
       "      <td>4358144</td>\n",
       "    </tr>\n",
       "    <tr>\n",
       "      <th>2023-06-04 23:55:00+00:00</th>\n",
       "      <td>27111.230469</td>\n",
       "      <td>27111.230469</td>\n",
       "      <td>27111.230469</td>\n",
       "      <td>27111.230469</td>\n",
       "      <td>27111.230469</td>\n",
       "      <td>15838208</td>\n",
       "    </tr>\n",
       "    <tr>\n",
       "      <th>2023-06-04 23:56:00+00:00</th>\n",
       "      <td>27103.966797</td>\n",
       "      <td>27103.966797</td>\n",
       "      <td>27103.966797</td>\n",
       "      <td>27103.966797</td>\n",
       "      <td>27103.966797</td>\n",
       "      <td>8278016</td>\n",
       "    </tr>\n",
       "    <tr>\n",
       "      <th>2023-06-04 23:57:00+00:00</th>\n",
       "      <td>27100.130859</td>\n",
       "      <td>27100.130859</td>\n",
       "      <td>27100.130859</td>\n",
       "      <td>27100.130859</td>\n",
       "      <td>27100.130859</td>\n",
       "      <td>2413568</td>\n",
       "    </tr>\n",
       "    <tr>\n",
       "      <th>2023-06-04 23:58:00+00:00</th>\n",
       "      <td>27114.027344</td>\n",
       "      <td>27114.027344</td>\n",
       "      <td>27114.027344</td>\n",
       "      <td>27114.027344</td>\n",
       "      <td>27114.027344</td>\n",
       "      <td>3150848</td>\n",
       "    </tr>\n",
       "  </tbody>\n",
       "</table>\n",
       "<p>1426 rows × 6 columns</p>\n",
       "</div>"
      ],
      "text/plain": [
       "                                   Open          High           Low  \\\n",
       "Datetime                                                              \n",
       "2023-06-04 00:00:00+00:00  27075.123047  27075.123047  27075.123047   \n",
       "2023-06-04 00:01:00+00:00  27075.318359  27075.318359  27075.318359   \n",
       "2023-06-04 00:02:00+00:00  27067.025391  27067.025391  27067.025391   \n",
       "2023-06-04 00:03:00+00:00  27067.289062  27067.289062  27067.289062   \n",
       "2023-06-04 00:04:00+00:00  27065.878906  27065.878906  27065.878906   \n",
       "...                                 ...           ...           ...   \n",
       "2023-06-04 23:54:00+00:00  27108.228516  27108.228516  27108.228516   \n",
       "2023-06-04 23:55:00+00:00  27111.230469  27111.230469  27111.230469   \n",
       "2023-06-04 23:56:00+00:00  27103.966797  27103.966797  27103.966797   \n",
       "2023-06-04 23:57:00+00:00  27100.130859  27100.130859  27100.130859   \n",
       "2023-06-04 23:58:00+00:00  27114.027344  27114.027344  27114.027344   \n",
       "\n",
       "                                  Close     Adj Close    Volume  \n",
       "Datetime                                                         \n",
       "2023-06-04 00:00:00+00:00  27075.123047  27075.123047         0  \n",
       "2023-06-04 00:01:00+00:00  27075.318359  27075.318359         0  \n",
       "2023-06-04 00:02:00+00:00  27067.025391  27067.025391         0  \n",
       "2023-06-04 00:03:00+00:00  27067.289062  27067.289062   1490944  \n",
       "2023-06-04 00:04:00+00:00  27065.878906  27065.878906         0  \n",
       "...                                 ...           ...       ...  \n",
       "2023-06-04 23:54:00+00:00  27108.228516  27108.228516   4358144  \n",
       "2023-06-04 23:55:00+00:00  27111.230469  27111.230469  15838208  \n",
       "2023-06-04 23:56:00+00:00  27103.966797  27103.966797   8278016  \n",
       "2023-06-04 23:57:00+00:00  27100.130859  27100.130859   2413568  \n",
       "2023-06-04 23:58:00+00:00  27114.027344  27114.027344   3150848  \n",
       "\n",
       "[1426 rows x 6 columns]"
      ]
     },
     "execution_count": 56,
     "metadata": {},
     "output_type": "execute_result"
    }
   ],
   "source": [
    "BTC"
   ]
  },
  {
   "cell_type": "code",
   "execution_count": 57,
   "id": "fe51ad18",
   "metadata": {},
   "outputs": [
    {
     "data": {
      "text/html": [
       "<div>\n",
       "<style scoped>\n",
       "    .dataframe tbody tr th:only-of-type {\n",
       "        vertical-align: middle;\n",
       "    }\n",
       "\n",
       "    .dataframe tbody tr th {\n",
       "        vertical-align: top;\n",
       "    }\n",
       "\n",
       "    .dataframe thead th {\n",
       "        text-align: right;\n",
       "    }\n",
       "</style>\n",
       "<table border=\"1\" class=\"dataframe\">\n",
       "  <thead>\n",
       "    <tr style=\"text-align: right;\">\n",
       "      <th></th>\n",
       "      <th>Open</th>\n",
       "      <th>High</th>\n",
       "      <th>Low</th>\n",
       "      <th>Close</th>\n",
       "      <th>Adj Close</th>\n",
       "      <th>Volume</th>\n",
       "    </tr>\n",
       "  </thead>\n",
       "  <tbody>\n",
       "    <tr>\n",
       "      <th>count</th>\n",
       "      <td>1426.000000</td>\n",
       "      <td>1426.000000</td>\n",
       "      <td>1426.000000</td>\n",
       "      <td>1426.000000</td>\n",
       "      <td>1426.000000</td>\n",
       "      <td>1.426000e+03</td>\n",
       "    </tr>\n",
       "    <tr>\n",
       "      <th>mean</th>\n",
       "      <td>27168.306513</td>\n",
       "      <td>27168.306513</td>\n",
       "      <td>27168.306513</td>\n",
       "      <td>27168.306513</td>\n",
       "      <td>27168.306513</td>\n",
       "      <td>2.383296e+06</td>\n",
       "    </tr>\n",
       "    <tr>\n",
       "      <th>std</th>\n",
       "      <td>78.385340</td>\n",
       "      <td>78.385340</td>\n",
       "      <td>78.385340</td>\n",
       "      <td>78.385340</td>\n",
       "      <td>78.385340</td>\n",
       "      <td>6.497806e+06</td>\n",
       "    </tr>\n",
       "    <tr>\n",
       "      <th>min</th>\n",
       "      <td>26968.224609</td>\n",
       "      <td>26968.224609</td>\n",
       "      <td>26968.224609</td>\n",
       "      <td>26968.224609</td>\n",
       "      <td>26968.224609</td>\n",
       "      <td>0.000000e+00</td>\n",
       "    </tr>\n",
       "    <tr>\n",
       "      <th>25%</th>\n",
       "      <td>27084.068848</td>\n",
       "      <td>27084.068848</td>\n",
       "      <td>27084.068848</td>\n",
       "      <td>27084.068848</td>\n",
       "      <td>27084.068848</td>\n",
       "      <td>0.000000e+00</td>\n",
       "    </tr>\n",
       "    <tr>\n",
       "      <th>50%</th>\n",
       "      <td>27198.085938</td>\n",
       "      <td>27198.085938</td>\n",
       "      <td>27198.085938</td>\n",
       "      <td>27198.085938</td>\n",
       "      <td>27198.085938</td>\n",
       "      <td>1.349120e+05</td>\n",
       "    </tr>\n",
       "    <tr>\n",
       "      <th>75%</th>\n",
       "      <td>27221.286621</td>\n",
       "      <td>27221.286621</td>\n",
       "      <td>27221.286621</td>\n",
       "      <td>27221.286621</td>\n",
       "      <td>27221.286621</td>\n",
       "      <td>2.237440e+06</td>\n",
       "    </tr>\n",
       "    <tr>\n",
       "      <th>max</th>\n",
       "      <td>27407.019531</td>\n",
       "      <td>27407.019531</td>\n",
       "      <td>27407.019531</td>\n",
       "      <td>27407.019531</td>\n",
       "      <td>27407.019531</td>\n",
       "      <td>1.134362e+08</td>\n",
       "    </tr>\n",
       "  </tbody>\n",
       "</table>\n",
       "</div>"
      ],
      "text/plain": [
       "               Open          High           Low         Close     Adj Close  \\\n",
       "count   1426.000000   1426.000000   1426.000000   1426.000000   1426.000000   \n",
       "mean   27168.306513  27168.306513  27168.306513  27168.306513  27168.306513   \n",
       "std       78.385340     78.385340     78.385340     78.385340     78.385340   \n",
       "min    26968.224609  26968.224609  26968.224609  26968.224609  26968.224609   \n",
       "25%    27084.068848  27084.068848  27084.068848  27084.068848  27084.068848   \n",
       "50%    27198.085938  27198.085938  27198.085938  27198.085938  27198.085938   \n",
       "75%    27221.286621  27221.286621  27221.286621  27221.286621  27221.286621   \n",
       "max    27407.019531  27407.019531  27407.019531  27407.019531  27407.019531   \n",
       "\n",
       "             Volume  \n",
       "count  1.426000e+03  \n",
       "mean   2.383296e+06  \n",
       "std    6.497806e+06  \n",
       "min    0.000000e+00  \n",
       "25%    0.000000e+00  \n",
       "50%    1.349120e+05  \n",
       "75%    2.237440e+06  \n",
       "max    1.134362e+08  "
      ]
     },
     "execution_count": 57,
     "metadata": {},
     "output_type": "execute_result"
    }
   ],
   "source": [
    "BTC.describe()"
   ]
  },
  {
   "cell_type": "code",
   "execution_count": 58,
   "id": "a313d432",
   "metadata": {},
   "outputs": [
    {
     "name": "stdout",
     "output_type": "stream",
     "text": [
      "[*********************100%***********************]  1 of 1 completed\n"
     ]
    }
   ],
   "source": [
    "ETH = yf.download('ETH-USD', start='2023-06-04', end='2023-06-05',  interval = '1m')"
   ]
  },
  {
   "cell_type": "code",
   "execution_count": 59,
   "id": "de409fe8",
   "metadata": {},
   "outputs": [
    {
     "data": {
      "text/html": [
       "<div>\n",
       "<style scoped>\n",
       "    .dataframe tbody tr th:only-of-type {\n",
       "        vertical-align: middle;\n",
       "    }\n",
       "\n",
       "    .dataframe tbody tr th {\n",
       "        vertical-align: top;\n",
       "    }\n",
       "\n",
       "    .dataframe thead th {\n",
       "        text-align: right;\n",
       "    }\n",
       "</style>\n",
       "<table border=\"1\" class=\"dataframe\">\n",
       "  <thead>\n",
       "    <tr style=\"text-align: right;\">\n",
       "      <th></th>\n",
       "      <th>Open</th>\n",
       "      <th>High</th>\n",
       "      <th>Low</th>\n",
       "      <th>Close</th>\n",
       "      <th>Adj Close</th>\n",
       "      <th>Volume</th>\n",
       "    </tr>\n",
       "    <tr>\n",
       "      <th>Datetime</th>\n",
       "      <th></th>\n",
       "      <th></th>\n",
       "      <th></th>\n",
       "      <th></th>\n",
       "      <th></th>\n",
       "      <th></th>\n",
       "    </tr>\n",
       "  </thead>\n",
       "  <tbody>\n",
       "    <tr>\n",
       "      <th>2023-06-04 00:00:00+00:00</th>\n",
       "      <td>1892.398193</td>\n",
       "      <td>1892.398193</td>\n",
       "      <td>1892.398193</td>\n",
       "      <td>1892.398193</td>\n",
       "      <td>1892.398193</td>\n",
       "      <td>0</td>\n",
       "    </tr>\n",
       "    <tr>\n",
       "      <th>2023-06-04 00:01:00+00:00</th>\n",
       "      <td>1892.398193</td>\n",
       "      <td>1892.398193</td>\n",
       "      <td>1892.398193</td>\n",
       "      <td>1892.398193</td>\n",
       "      <td>1892.398193</td>\n",
       "      <td>0</td>\n",
       "    </tr>\n",
       "    <tr>\n",
       "      <th>2023-06-04 00:02:00+00:00</th>\n",
       "      <td>1892.212769</td>\n",
       "      <td>1892.212769</td>\n",
       "      <td>1892.212769</td>\n",
       "      <td>1892.212769</td>\n",
       "      <td>1892.212769</td>\n",
       "      <td>0</td>\n",
       "    </tr>\n",
       "    <tr>\n",
       "      <th>2023-06-04 00:03:00+00:00</th>\n",
       "      <td>1892.560303</td>\n",
       "      <td>1892.560303</td>\n",
       "      <td>1892.560303</td>\n",
       "      <td>1892.560303</td>\n",
       "      <td>1892.560303</td>\n",
       "      <td>0</td>\n",
       "    </tr>\n",
       "    <tr>\n",
       "      <th>2023-06-04 00:04:00+00:00</th>\n",
       "      <td>1892.447021</td>\n",
       "      <td>1892.447021</td>\n",
       "      <td>1892.447021</td>\n",
       "      <td>1892.447021</td>\n",
       "      <td>1892.447021</td>\n",
       "      <td>0</td>\n",
       "    </tr>\n",
       "    <tr>\n",
       "      <th>...</th>\n",
       "      <td>...</td>\n",
       "      <td>...</td>\n",
       "      <td>...</td>\n",
       "      <td>...</td>\n",
       "      <td>...</td>\n",
       "      <td>...</td>\n",
       "    </tr>\n",
       "    <tr>\n",
       "      <th>2023-06-04 23:54:00+00:00</th>\n",
       "      <td>1890.518921</td>\n",
       "      <td>1890.518921</td>\n",
       "      <td>1890.518921</td>\n",
       "      <td>1890.518921</td>\n",
       "      <td>1890.518921</td>\n",
       "      <td>867840</td>\n",
       "    </tr>\n",
       "    <tr>\n",
       "      <th>2023-06-04 23:55:00+00:00</th>\n",
       "      <td>1890.460571</td>\n",
       "      <td>1890.460571</td>\n",
       "      <td>1890.460571</td>\n",
       "      <td>1890.460571</td>\n",
       "      <td>1890.460571</td>\n",
       "      <td>6511360</td>\n",
       "    </tr>\n",
       "    <tr>\n",
       "      <th>2023-06-04 23:56:00+00:00</th>\n",
       "      <td>1889.937256</td>\n",
       "      <td>1889.937256</td>\n",
       "      <td>1889.937256</td>\n",
       "      <td>1889.937256</td>\n",
       "      <td>1889.937256</td>\n",
       "      <td>1811712</td>\n",
       "    </tr>\n",
       "    <tr>\n",
       "      <th>2023-06-04 23:57:00+00:00</th>\n",
       "      <td>1889.624390</td>\n",
       "      <td>1889.624390</td>\n",
       "      <td>1889.624390</td>\n",
       "      <td>1889.624390</td>\n",
       "      <td>1889.624390</td>\n",
       "      <td>388864</td>\n",
       "    </tr>\n",
       "    <tr>\n",
       "      <th>2023-06-04 23:58:00+00:00</th>\n",
       "      <td>1890.228760</td>\n",
       "      <td>1890.228760</td>\n",
       "      <td>1890.228760</td>\n",
       "      <td>1890.228760</td>\n",
       "      <td>1890.228760</td>\n",
       "      <td>1058048</td>\n",
       "    </tr>\n",
       "  </tbody>\n",
       "</table>\n",
       "<p>1426 rows × 6 columns</p>\n",
       "</div>"
      ],
      "text/plain": [
       "                                  Open         High          Low        Close  \\\n",
       "Datetime                                                                        \n",
       "2023-06-04 00:00:00+00:00  1892.398193  1892.398193  1892.398193  1892.398193   \n",
       "2023-06-04 00:01:00+00:00  1892.398193  1892.398193  1892.398193  1892.398193   \n",
       "2023-06-04 00:02:00+00:00  1892.212769  1892.212769  1892.212769  1892.212769   \n",
       "2023-06-04 00:03:00+00:00  1892.560303  1892.560303  1892.560303  1892.560303   \n",
       "2023-06-04 00:04:00+00:00  1892.447021  1892.447021  1892.447021  1892.447021   \n",
       "...                                ...          ...          ...          ...   \n",
       "2023-06-04 23:54:00+00:00  1890.518921  1890.518921  1890.518921  1890.518921   \n",
       "2023-06-04 23:55:00+00:00  1890.460571  1890.460571  1890.460571  1890.460571   \n",
       "2023-06-04 23:56:00+00:00  1889.937256  1889.937256  1889.937256  1889.937256   \n",
       "2023-06-04 23:57:00+00:00  1889.624390  1889.624390  1889.624390  1889.624390   \n",
       "2023-06-04 23:58:00+00:00  1890.228760  1890.228760  1890.228760  1890.228760   \n",
       "\n",
       "                             Adj Close   Volume  \n",
       "Datetime                                         \n",
       "2023-06-04 00:00:00+00:00  1892.398193        0  \n",
       "2023-06-04 00:01:00+00:00  1892.398193        0  \n",
       "2023-06-04 00:02:00+00:00  1892.212769        0  \n",
       "2023-06-04 00:03:00+00:00  1892.560303        0  \n",
       "2023-06-04 00:04:00+00:00  1892.447021        0  \n",
       "...                                ...      ...  \n",
       "2023-06-04 23:54:00+00:00  1890.518921   867840  \n",
       "2023-06-04 23:55:00+00:00  1890.460571  6511360  \n",
       "2023-06-04 23:56:00+00:00  1889.937256  1811712  \n",
       "2023-06-04 23:57:00+00:00  1889.624390   388864  \n",
       "2023-06-04 23:58:00+00:00  1890.228760  1058048  \n",
       "\n",
       "[1426 rows x 6 columns]"
      ]
     },
     "execution_count": 59,
     "metadata": {},
     "output_type": "execute_result"
    }
   ],
   "source": [
    "ETH"
   ]
  },
  {
   "cell_type": "code",
   "execution_count": 60,
   "id": "da9170d8",
   "metadata": {},
   "outputs": [
    {
     "data": {
      "text/html": [
       "<div>\n",
       "<style scoped>\n",
       "    .dataframe tbody tr th:only-of-type {\n",
       "        vertical-align: middle;\n",
       "    }\n",
       "\n",
       "    .dataframe tbody tr th {\n",
       "        vertical-align: top;\n",
       "    }\n",
       "\n",
       "    .dataframe thead th {\n",
       "        text-align: right;\n",
       "    }\n",
       "</style>\n",
       "<table border=\"1\" class=\"dataframe\">\n",
       "  <thead>\n",
       "    <tr style=\"text-align: right;\">\n",
       "      <th></th>\n",
       "      <th>Open</th>\n",
       "      <th>High</th>\n",
       "      <th>Low</th>\n",
       "      <th>Close</th>\n",
       "      <th>Adj Close</th>\n",
       "      <th>Volume</th>\n",
       "    </tr>\n",
       "  </thead>\n",
       "  <tbody>\n",
       "    <tr>\n",
       "      <th>count</th>\n",
       "      <td>1426.000000</td>\n",
       "      <td>1426.000000</td>\n",
       "      <td>1426.000000</td>\n",
       "      <td>1426.000000</td>\n",
       "      <td>1426.000000</td>\n",
       "      <td>1.426000e+03</td>\n",
       "    </tr>\n",
       "    <tr>\n",
       "      <th>mean</th>\n",
       "      <td>1900.197061</td>\n",
       "      <td>1900.197061</td>\n",
       "      <td>1900.197061</td>\n",
       "      <td>1900.197061</td>\n",
       "      <td>1900.197061</td>\n",
       "      <td>1.014376e+06</td>\n",
       "    </tr>\n",
       "    <tr>\n",
       "      <th>std</th>\n",
       "      <td>5.430955</td>\n",
       "      <td>5.430955</td>\n",
       "      <td>5.430955</td>\n",
       "      <td>5.430955</td>\n",
       "      <td>5.430955</td>\n",
       "      <td>3.000718e+06</td>\n",
       "    </tr>\n",
       "    <tr>\n",
       "      <th>min</th>\n",
       "      <td>1885.651855</td>\n",
       "      <td>1885.651855</td>\n",
       "      <td>1885.651855</td>\n",
       "      <td>1885.651855</td>\n",
       "      <td>1885.651855</td>\n",
       "      <td>0.000000e+00</td>\n",
       "    </tr>\n",
       "    <tr>\n",
       "      <th>25%</th>\n",
       "      <td>1894.625092</td>\n",
       "      <td>1894.625092</td>\n",
       "      <td>1894.625092</td>\n",
       "      <td>1894.625092</td>\n",
       "      <td>1894.625092</td>\n",
       "      <td>0.000000e+00</td>\n",
       "    </tr>\n",
       "    <tr>\n",
       "      <th>50%</th>\n",
       "      <td>1901.788513</td>\n",
       "      <td>1901.788513</td>\n",
       "      <td>1901.788513</td>\n",
       "      <td>1901.788513</td>\n",
       "      <td>1901.788513</td>\n",
       "      <td>5.452800e+04</td>\n",
       "    </tr>\n",
       "    <tr>\n",
       "      <th>75%</th>\n",
       "      <td>1904.856110</td>\n",
       "      <td>1904.856110</td>\n",
       "      <td>1904.856110</td>\n",
       "      <td>1904.856110</td>\n",
       "      <td>1904.856110</td>\n",
       "      <td>7.512320e+05</td>\n",
       "    </tr>\n",
       "    <tr>\n",
       "      <th>max</th>\n",
       "      <td>1912.205688</td>\n",
       "      <td>1912.205688</td>\n",
       "      <td>1912.205688</td>\n",
       "      <td>1912.205688</td>\n",
       "      <td>1912.205688</td>\n",
       "      <td>3.938893e+07</td>\n",
       "    </tr>\n",
       "  </tbody>\n",
       "</table>\n",
       "</div>"
      ],
      "text/plain": [
       "              Open         High          Low        Close    Adj Close  \\\n",
       "count  1426.000000  1426.000000  1426.000000  1426.000000  1426.000000   \n",
       "mean   1900.197061  1900.197061  1900.197061  1900.197061  1900.197061   \n",
       "std       5.430955     5.430955     5.430955     5.430955     5.430955   \n",
       "min    1885.651855  1885.651855  1885.651855  1885.651855  1885.651855   \n",
       "25%    1894.625092  1894.625092  1894.625092  1894.625092  1894.625092   \n",
       "50%    1901.788513  1901.788513  1901.788513  1901.788513  1901.788513   \n",
       "75%    1904.856110  1904.856110  1904.856110  1904.856110  1904.856110   \n",
       "max    1912.205688  1912.205688  1912.205688  1912.205688  1912.205688   \n",
       "\n",
       "             Volume  \n",
       "count  1.426000e+03  \n",
       "mean   1.014376e+06  \n",
       "std    3.000718e+06  \n",
       "min    0.000000e+00  \n",
       "25%    0.000000e+00  \n",
       "50%    5.452800e+04  \n",
       "75%    7.512320e+05  \n",
       "max    3.938893e+07  "
      ]
     },
     "execution_count": 60,
     "metadata": {},
     "output_type": "execute_result"
    }
   ],
   "source": [
    "ETH.describe()"
   ]
  },
  {
   "cell_type": "code",
   "execution_count": 61,
   "id": "05a06a1d",
   "metadata": {},
   "outputs": [],
   "source": [
    "S1_0 = BTC['Open'][0]\n",
    "S2_0 = ETH['Open'][0]"
   ]
  },
  {
   "cell_type": "code",
   "execution_count": 62,
   "id": "d039c3e1",
   "metadata": {},
   "outputs": [],
   "source": [
    "lr1 = np.log(BTC['Adj Close'] / BTC['Adj Close'].shift(1))\n",
    "lr2 = np.log(ETH['Adj Close'] / ETH['Adj Close'].shift(1))\n",
    "mu_1 = lr1.mean() * len(BTC)\n",
    "mu_2 = lr2.mean() * len(ETH)\n",
    "sigma_1 = lr1.std() * np.sqrt(len(BTC))\n",
    "sigma_2 = lr2.std() * np.sqrt(len(ETH))\n",
    "rho = lr1.corr(lr2)\n",
    "z_0 = 0.00\n",
    "gamma = 0.5\n",
    "delta = 0.8\n",
    "T = 1\n",
    "M = len(BTC)"
   ]
  },
  {
   "cell_type": "code",
   "execution_count": 63,
   "id": "99babf8f",
   "metadata": {},
   "outputs": [],
   "source": [
    "dt = T/M\n",
    "S1 = np.zeros((M + 1, 1))\n",
    "S2 = np.zeros((M + 1, 1))\n",
    "z =  np.zeros((M + 1, 1))\n",
    "a =  np.zeros((M + 1, 1))\n",
    "b =  np.zeros((M + 1, 1))\n",
    "c =  np.zeros((M + 1, 1))\n",
    "Pi_1 = np.zeros((M + 1, 1))\n",
    "Pi_2 = np.zeros((M + 1, 1))"
   ]
  },
  {
   "cell_type": "code",
   "execution_count": 64,
   "id": "751792d6",
   "metadata": {},
   "outputs": [],
   "source": [
    "tt = np.linspace(0, 1, M + 1)\n",
    "z[0] = z_0\n",
    "S1[0] = S1_0\n",
    "S2[0] = S2_0\n",
    "sigma_beta = np.sqrt(sigma_1 ** 2 + beta ** 2 * sigma_2 ** 2 + 2 * beta * sigma_1 * sigma_2 * rho)\n",
    "eta = (-1/delta) * (mu_1 - sigma_1 ** 2/2 + beta*(mu_2 - sigma_2 ** 2/2))\n",
    "rn = np.random.standard_normal(z.shape)\n",
    "for t in range(1, M + 1):\n",
    "    z[t] = z[t-1]* (1 - delta * (eta - z[t-1])) * dt + sigma_beta * np.sqrt(dt)*((sigma_1 + beta * sigma_2 * rho)/ sigma_beta * rn[t] + beta * (sigma_2 * np.sqrt(1-rho ** 2)/sigma_beta) * rn[t]);\n",
    "    S1[t] = BTC['Adj Close'][t-1]\n",
    "    S2[t] = ETH['Adj Close'][t-1]"
   ]
  },
  {
   "cell_type": "code",
   "execution_count": 65,
   "id": "99010ebd",
   "metadata": {},
   "outputs": [
    {
     "data": {
      "text/plain": [
       "Text(0.5, 1.0, 'Crypto Price')"
      ]
     },
     "execution_count": 65,
     "metadata": {},
     "output_type": "execute_result"
    },
    {
     "data": {
      "image/png": "[encoded data removed]",
      "text/plain": [
       "<Figure size 720x432 with 1 Axes>"
      ]
     },
     "metadata": {
      "needs_background": "light"
     },
     "output_type": "display_data"
    }
   ],
   "source": [
    "plt.figure(figsize=(10, 6))\n",
    "plt.plot(tt, S1, 'b', lw=1.5, label='BTC')\n",
    "plt.plot(tt, S2, 'r', lw=1.5, label='ETH')\n",
    "plt.legend(loc=0)\n",
    "plt.xlabel('Time')\n",
    "plt.ylabel('$')\n",
    "plt.title('Crypto Price')"
   ]
  },
  {
   "cell_type": "code",
   "execution_count": 66,
   "id": "046b5a67",
   "metadata": {},
   "outputs": [
    {
     "data": {
      "text/plain": [
       "Text(0.5, 1.0, 'z')"
      ]
     },
     "execution_count": 66,
     "metadata": {},
     "output_type": "execute_result"
    },
    {
     "data": {
      "image/png": "[encoded data removed]",
      "text/plain": [
       "<Figure size 720x432 with 1 Axes>"
      ]
     },
     "metadata": {
      "needs_background": "light"
     },
     "output_type": "display_data"
    }
   ],
   "source": [
    "plt.figure(figsize=(10, 6))\n",
    "plt.plot(tt, z, 'g', lw=1.5)\n",
    "plt.xlabel('Time')\n",
    "plt.ylabel('Rate')\n",
    "plt.title('z')"
   ]
  },
  {
   "cell_type": "code",
   "execution_count": 67,
   "id": "80aa96d8",
   "metadata": {},
   "outputs": [],
   "source": [
    "for t in range(1, M + 1):\n",
    "    a[t] = 0.5 * (T - t * dt)/((1-rho ** 2) * sigma_1 ** 2)\n",
    "    b[t] = - 0.25 * (T - t * dt) ** 2 * (sigma_1 ** 2 + beta * sigma_2 ** 2)/((1 - rho ** 2) * sigma_1 ** 2) - rho * mu_2 * (T - t * dt)/((1 - rho **2) * sigma_1 * sigma_2)\n",
    "    c[t] = 0.5 * mu_2 ** 2 * (T - t * dt)/((1 - rho ** 2) * sigma_2 ** 2) + 0.25 * (T - t * dt) ** 2 * (sigma_1 ** 2 + beta * sigma_2 ** 2 + 2 * sigma_1 * sigma_2 * beta *rho) * delta ** 2/((1 - rho ** 2) * sigma_1 ** 2) + 0.25 * (T - t * dt) ** 2 * mu_2 * delta * rho * (sigma_1 ** 2 + beta * sigma_2 ** 2) + 1/24 * (T - t * dt) ** 3 * (sigma_1 ** 2 + beta * sigma_2 ** 2) ** 2 * delta ** 2/((1 - rho ** 2) * sigma_1 ** 2)\n",
    "    Pi_1[t] = (1 / S1[t-1]) * ((mu_1 + delta * z[t])/(gamma * (1 - rho ** 2) * sigma_1 ** 2) + delta/gamma * (-2 * a[t] * (mu_1 + delta * z[t])-b[t]) - rho * mu_2/(gamma * (1 - rho ** 2) * sigma_1 * sigma_2))\n",
    "    Pi_2[t] = (1 / S2[t-1]) * (mu_2 / (gamma * (1 - rho ** 2) * sigma_2 ** 2) + delta * beta / gamma * (- 2 * a[t] * (mu_1 + delta * z[t]) - b[t]) - rho)"
   ]
  },
  {
   "cell_type": "code",
   "execution_count": 68,
   "id": "0b01a060",
   "metadata": {},
   "outputs": [
    {
     "data": {
      "text/plain": [
       "Text(0.5, 1.0, 'Weights')"
      ]
     },
     "execution_count": 68,
     "metadata": {},
     "output_type": "execute_result"
    },
    {
     "data": {
      "image/png": "[encoded data removed]",
      "text/plain": [
       "<Figure size 720x432 with 1 Axes>"
      ]
     },
     "metadata": {
      "needs_background": "light"
     },
     "output_type": "display_data"
    }
   ],
   "source": [
    "plt.figure(figsize=(10, 6))\n",
    "plt.plot(tt, Pi_1, 'b', lw=1.5, label='w1')\n",
    "plt.plot(tt, Pi_2, 'r', lw=1.5, label='w2')\n",
    "plt.legend(loc=0)\n",
    "plt.xlabel('Time')\n",
    "plt.ylabel('%')\n",
    "plt.title('Weights')"
   ]
  },
  {
   "cell_type": "code",
   "execution_count": 69,
   "id": "ba7549d2",
   "metadata": {},
   "outputs": [
    {
     "data": {
      "text/plain": [
       "Text(0.5, 1.0, 'wealth')"
      ]
     },
     "execution_count": 69,
     "metadata": {},
     "output_type": "execute_result"
    },
    {
     "data": {
      "image/png": "[encoded data removed]",
      "text/plain": [
       "<Figure size 720x432 with 1 Axes>"
      ]
     },
     "metadata": {
      "needs_background": "light"
     },
     "output_type": "display_data"
    }
   ],
   "source": [
    "plt.figure(figsize=(10, 6))\n",
    "plt.plot(tt, Pi_1 * S1, 'b', lw=1.5, label='Wealth 1')\n",
    "plt.plot(tt, Pi_2 * S2, 'r', lw=1.5, label='Wealth 2')\n",
    "plt.legend(loc=0)\n",
    "plt.xlabel('Time')\n",
    "plt.ylabel('$')\n",
    "plt.title('wealth')"
   ]
  },
  {
   "cell_type": "code",
   "execution_count": 70,
   "id": "e5393810",
   "metadata": {},
   "outputs": [],
   "source": [
    "Wealth = abs(Pi_1 * S1) + abs(Pi_2 * S2)"
   ]
  },
  {
   "cell_type": "code",
   "execution_count": 71,
   "id": "19d0fabc",
   "metadata": {},
   "outputs": [
    {
     "data": {
      "text/plain": [
       "0.0034752949085901526"
      ]
     },
     "execution_count": 71,
     "metadata": {},
     "output_type": "execute_result"
    }
   ],
   "source": [
    "Pi_1.mean()"
   ]
  },
  {
   "cell_type": "code",
   "execution_count": 72,
   "id": "f287df4c",
   "metadata": {},
   "outputs": [
    {
     "data": {
      "text/plain": [
       "-0.07178908979373608"
      ]
     },
     "execution_count": 72,
     "metadata": {},
     "output_type": "execute_result"
    }
   ],
   "source": [
    "Pi_2.mean()"
   ]
  },
  {
   "cell_type": "code",
   "execution_count": 73,
   "id": "396e48bb",
   "metadata": {},
   "outputs": [
    {
     "data": {
      "text/plain": [
       "Text(0.5, 1.0, 'Wealth')"
      ]
     },
     "execution_count": 73,
     "metadata": {},
     "output_type": "execute_result"
    },
    {
     "data": {
      "image/png": "[encoded data removed]",
      "text/plain": [
       "<Figure size 720x432 with 1 Axes>"
      ]
     },
     "metadata": {
      "needs_background": "light"
     },
     "output_type": "display_data"
    }
   ],
   "source": [
    "plt.figure(figsize=(10, 6))\n",
    "plt.plot(tt[1:], Wealth[1:], 'b', lw=1.5, label='Total')\n",
    "plt.legend(loc=0)\n",
    "plt.xlabel('Time')\n",
    "plt.ylabel('$')\n",
    "plt.title('Wealth')"
   ]
  },
  {
   "cell_type": "code",
   "execution_count": 74,
   "id": "941f023f",
   "metadata": {},
   "outputs": [
    {
     "data": {
      "text/plain": [
       "Text(0.5, 1.0, 'Comparison')"
      ]
     },
     "execution_count": 74,
     "metadata": {},
     "output_type": "execute_result"
    },
    {
     "data": {
      "image/png": "[encoded data removed]",
      "text/plain": [
       "<Figure size 720x432 with 1 Axes>"
      ]
     },
     "metadata": {
      "needs_background": "light"
     },
     "output_type": "display_data"
    }
   ],
   "source": [
    "plt.figure(figsize=(10, 6))\n",
    "plt.plot(tt, Pi_1 * S1 + Pi_2 * S2, 'b', lw=1.5, label='Dynamic')\n",
    "plt.plot(tt, Pi_1.mean() * S1 + Pi_2.mean() * S2, 'r', lw=1.5, label='Static')\n",
    "plt.legend(loc=0)\n",
    "plt.xlabel('Time')\n",
    "plt.ylabel('$')\n",
    "plt.title('Comparison')"
   ]
  },
  {
   "cell_type": "code",
   "execution_count": 75,
   "id": "41f99481",
   "metadata": {},
   "outputs": [
    {
     "data": {
      "text/plain": [
       "array([263.6166444])"
      ]
     },
     "execution_count": 75,
     "metadata": {},
     "output_type": "execute_result"
    }
   ],
   "source": [
    "Wealth[1]   # Inital Wealth"
   ]
  },
  {
   "cell_type": "code",
   "execution_count": 76,
   "id": "fe9c92a5",
   "metadata": {},
   "outputs": [
    {
     "data": {
      "text/plain": [
       "array([256.73369979])"
      ]
     },
     "execution_count": 76,
     "metadata": {},
     "output_type": "execute_result"
    }
   ],
   "source": [
    "Wealth[-1]  # Ending Wealth"
   ]
  },
  {
   "cell_type": "code",
   "execution_count": 77,
   "id": "9435d1dd",
   "metadata": {},
   "outputs": [
    {
     "data": {
      "text/plain": [
       "-0.02610967385214724"
      ]
     },
     "execution_count": 77,
     "metadata": {},
     "output_type": "execute_result"
    }
   ],
   "source": [
    "Return = (Wealth[-1] - Wealth[1])/Wealth[1]  # Return\n",
    "Return.item()"
   ]
  },
  {
   "cell_type": "code",
   "execution_count": 78,
   "id": "3c17f806",
   "metadata": {},
   "outputs": [
    {
     "data": {
      "text/plain": [
       "0.8352153257305055"
      ]
     },
     "execution_count": 78,
     "metadata": {},
     "output_type": "execute_result"
    }
   ],
   "source": [
    "rho"
   ]
  },
  {
   "cell_type": "code",
   "execution_count": 79,
   "id": "5b8d4bb8",
   "metadata": {},
   "outputs": [
    {
     "data": {
      "text/plain": [
       "0.0014368782143373915"
      ]
     },
     "execution_count": 79,
     "metadata": {},
     "output_type": "execute_result"
    }
   ],
   "source": [
    "mu_1"
   ]
  },
  {
   "cell_type": "code",
   "execution_count": 80,
   "id": "00d2570e",
   "metadata": {},
   "outputs": [
    {
     "data": {
      "text/plain": [
       "-0.0011478563803540467"
      ]
     },
     "execution_count": 80,
     "metadata": {},
     "output_type": "execute_result"
    }
   ],
   "source": [
    "mu_2"
   ]
  },
  {
   "cell_type": "code",
   "execution_count": 81,
   "id": "fd9c07f7",
   "metadata": {},
   "outputs": [
    {
     "data": {
      "text/plain": [
       "0.010109145427303852"
      ]
     },
     "execution_count": 81,
     "metadata": {},
     "output_type": "execute_result"
    }
   ],
   "source": [
    "sigma_1"
   ]
  },
  {
   "cell_type": "code",
   "execution_count": 82,
   "id": "f8b5f01e",
   "metadata": {},
   "outputs": [
    {
     "data": {
      "text/plain": [
       "0.010122344657644805"
      ]
     },
     "execution_count": 82,
     "metadata": {},
     "output_type": "execute_result"
    }
   ],
   "source": [
    "sigma_2"
   ]
  },
  {
   "cell_type": "code",
   "execution_count": 83,
   "id": "04e54fda",
   "metadata": {},
   "outputs": [
    {
     "data": {
      "text/plain": [
       "0.9951705807301912"
      ]
     },
     "execution_count": 83,
     "metadata": {},
     "output_type": "execute_result"
    }
   ],
   "source": [
    "beta"
   ]
  },
  {
   "cell_type": "code",
   "execution_count": 84,
   "id": "059310b2",
   "metadata": {},
   "outputs": [
    {
     "data": {
      "text/plain": [
       "0.8"
      ]
     },
     "execution_count": 84,
     "metadata": {},
     "output_type": "execute_result"
    }
   ],
   "source": [
    "delta"
   ]
  },
  {
   "cell_type": "code",
   "execution_count": null,
   "id": "7164dc63",
   "metadata": {},
   "outputs": [],
   "source": []
  },
  {
   "cell_type": "code",
   "execution_count": null,
   "id": "7c9f2caf",
   "metadata": {},
   "outputs": [],
   "source": []
  }
 ],
 "metadata": {
  "kernelspec": {
   "display_name": "Python 3 (ipykernel)",
   "language": "python",
   "name": "python3"
  },
  "language_info": {
   "codemirror_mode": {
    "name": "ipython",
    "version": 3
   },
   "file_extension": ".py",
   "mimetype": "text/x-python",
   "name": "python",
   "nbconvert_exporter": "python",
   "pygments_lexer": "ipython3",
   "version": "3.9.12"
  }
 },
 "nbformat": 4,
 "nbformat_minor": 5
}
